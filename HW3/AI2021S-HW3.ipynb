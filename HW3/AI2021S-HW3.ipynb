{
 "cells": [
  {
   "cell_type": "markdown",
   "metadata": {},
   "source": [
    "# 作业3：深度学习框架实践"
   ]
  },
  {
   "cell_type": "markdown",
   "metadata": {},
   "source": [
    "本次作业将练习深度学习框架的使用，大部分内容用 PyTorch 实现。第1题利用卷积层和全连接层实现手写数字的识别，第2题利用 RNN 来实现英文名的自动生成，第3题是算法题，利用卷积运算实现任意大整数的乘法。"
   ]
  },
  {
   "cell_type": "markdown",
   "metadata": {},
   "source": [
    "### 第1题"
   ]
  },
  {
   "cell_type": "markdown",
   "metadata": {},
   "source": [
    "1. 目标：通过对 MNIST 数据进行训练，构建一个简单的图像分类模型，对图片中的数字进行识别。你将利用该模型对自己真实手写出的数字进行预测，观察模型效果。"
   ]
  },
  {
   "cell_type": "markdown",
   "metadata": {},
   "source": [
    "2. 主要步骤：获取数据，创建模型结构，定义损失函数，编写训练循环，实施预测。"
   ]
  },
  {
   "cell_type": "markdown",
   "metadata": {},
   "source": [
    "3. 获取数据。我们使用知名的 MNIST 数据集，它可以从 PyTorch 中利用工具函数下载得到。原始的 MNIST 数据训练集大小为60000，我们随机抽取其中的10000个观测进行简单的训练。以下函数会在当前目录建立一个名为 data 的文件夹，其中会包含下载得到的数据集。"
   ]
  },
  {
   "cell_type": "markdown",
   "metadata": {},
   "source": [
    "**注意：请在任何程序的最开始加上随机数种子的设置。请保持这一习惯。**"
   ]
  },
  {
   "cell_type": "code",
   "execution_count": 2,
   "metadata": {},
   "outputs": [],
   "source": [
    "import numpy as np\n",
    "import torch\n",
    "from torchvision import datasets\n",
    "from torchvision.transforms import ToTensor\n",
    "from torch.utils.data import DataLoader\n",
    "\n",
    "np.random.seed(123)\n",
    "torch.manual_seed(123)\n",
    "\n",
    "mnist = datasets.MNIST(\n",
    "    root=\"data\",\n",
    "    train=True,\n",
    "    download=True,\n",
    "    transform=ToTensor()\n",
    ")\n",
    "loader = DataLoader(mnist, batch_size=10000, shuffle=True)"
   ]
  },
  {
   "cell_type": "markdown",
   "metadata": {},
   "source": [
    "我们一次性取出随机抽取到的10000个观测，其中 x 是图片数据，y 是图片对应的数字。"
   ]
  },
  {
   "cell_type": "code",
   "execution_count": 8,
   "metadata": {},
   "outputs": [],
   "source": [
    "x, y = next(iter(loader))"
   ]
  },
  {
   "cell_type": "markdown",
   "metadata": {},
   "source": [
    "一个习惯性动作是查看数据的大小和维度。"
   ]
  },
  {
   "cell_type": "code",
   "execution_count": 9,
   "metadata": {},
   "outputs": [
    {
     "name": "stdout",
     "output_type": "stream",
     "text": [
      "torch.Size([10000, 1, 28, 28])\n",
      "torch.Size([10000])\n"
     ]
    }
   ],
   "source": [
    "print(x.shape)\n",
    "print(y.shape)"
   ]
  },
  {
   "cell_type": "markdown",
   "metadata": {},
   "source": [
    "我们可以利用下面的函数展示图片的内容。如选择第一张图片，先将其转换成 Numpy 数组，再绘制图形："
   ]
  },
  {
   "cell_type": "code",
   "execution_count": 10,
   "metadata": {
    "scrolled": true
   },
   "outputs": [
    {
     "name": "stdout",
     "output_type": "stream",
     "text": [
      "(28, 28)\n"
     ]
    },
    {
     "data": {
      "image/png": "[encoded data removed]",
      "text/plain": [
       "<Figure size 432x288 with 1 Axes>"
      ]
     },
     "metadata": {
      "needs_background": "light"
     },
     "output_type": "display_data"
    }
   ],
   "source": [
    "import matplotlib.pyplot as plt\n",
    "\n",
    "img = x[0].squeeze().cpu().numpy()\n",
    "print(img.shape)\n",
    "plt.imshow(img, cmap=\"gray\")\n",
    "plt.show()"
   ]
  },
  {
   "cell_type": "markdown",
   "metadata": {},
   "source": [
    "接下来请你选择5个你喜欢的数字（10000以下），然后取出对应位置的图片，并画出它们的内容。"
   ]
  },
  {
   "cell_type": "code",
   "execution_count": 19,
   "metadata": {},
   "outputs": [
    {
     "name": "stdout",
     "output_type": "stream",
     "text": [
      "(28, 28)\n"
     ]
    },
    {
     "data": {
      "image/png": "[encoded data removed]",
      "text/plain": [
       "<Figure size 432x288 with 1 Axes>"
      ]
     },
     "metadata": {
      "needs_background": "light"
     },
     "output_type": "display_data"
    }
   ],
   "source": [
    "# Plot five digits here\n",
    "img1 = x[404].squeeze().cpu().numpy()\n",
    "print(img1.shape)\n",
    "plt.imshow(img1, cmap=\"gray\")\n",
    "plt.show()"
   ]
  },
  {
   "cell_type": "code",
   "execution_count": 17,
   "metadata": {},
   "outputs": [
    {
     "name": "stdout",
     "output_type": "stream",
     "text": [
      "(28, 28)\n"
     ]
    },
    {
     "data": {
      "image/png": "[encoded data removed]",
      "text/plain": [
       "<Figure size 432x288 with 1 Axes>"
      ]
     },
     "metadata": {
      "needs_background": "light"
     },
     "output_type": "display_data"
    }
   ],
   "source": [
    "img2 = x[511].squeeze().cpu().numpy()\n",
    "print(img2.shape)\n",
    "plt.imshow(img2, cmap=\"gray\")\n",
    "plt.show()"
   ]
  },
  {
   "cell_type": "code",
   "execution_count": 18,
   "metadata": {},
   "outputs": [
    {
     "name": "stdout",
     "output_type": "stream",
     "text": [
      "(28, 28)\n"
     ]
    },
    {
     "data": {
      "image/png": "[encoded data removed]",
      "text/plain": [
       "<Figure size 432x288 with 1 Axes>"
      ]
     },
     "metadata": {
      "needs_background": "light"
     },
     "output_type": "display_data"
    }
   ],
   "source": [
    "img3 = x[514].squeeze().cpu().numpy()\n",
    "print(img3.shape)\n",
    "plt.imshow(img3, cmap=\"gray\")\n",
    "plt.show()"
   ]
  },
  {
   "cell_type": "code",
   "execution_count": 20,
   "metadata": {},
   "outputs": [
    {
     "name": "stdout",
     "output_type": "stream",
     "text": [
      "(28, 28)\n"
     ]
    },
    {
     "data": {
      "image/png": "[encoded data removed]",
      "text/plain": [
       "<Figure size 432x288 with 1 Axes>"
      ]
     },
     "metadata": {
      "needs_background": "light"
     },
     "output_type": "display_data"
    }
   ],
   "source": [
    "img4 = x[1129].squeeze().cpu().numpy()\n",
    "print(img4.shape)\n",
    "plt.imshow(img4, cmap=\"gray\")\n",
    "plt.show()"
   ]
  },
  {
   "cell_type": "code",
   "execution_count": 21,
   "metadata": {},
   "outputs": [
    {
     "name": "stdout",
     "output_type": "stream",
     "text": [
      "(28, 28)\n"
     ]
    },
    {
     "data": {
      "image/png": "[encoded data removed]",
      "text/plain": [
       "<Figure size 432x288 with 1 Axes>"
      ]
     },
     "metadata": {
      "needs_background": "light"
     },
     "output_type": "display_data"
    }
   ],
   "source": [
    "img5 = x[9823].squeeze().cpu().numpy()\n",
    "print(img5.shape)\n",
    "plt.imshow(img5, cmap=\"gray\")\n",
    "plt.show()"
   ]
  },
  {
   "cell_type": "markdown",
   "metadata": {},
   "source": [
    "4. 搭建模型。我们搭建一个类似于 LeNet-5 的网络，结构如下："
   ]
  },
  {
   "cell_type": "markdown",
   "metadata": {},
   "source": [
    "![](https://pic1.zhimg.com/80/v2-82eabb4c17e90d467197d013f7629f3c_720w.jpg)"
   ]
  },
  {
   "cell_type": "markdown",
   "metadata": {},
   "source": [
    "我们需要创建2个卷积层、2个汇聚层（池化层）和2个全连接层，**暂时忽略所有的激活函数**。所有隐藏层的函数细节都可以在[官方文档](https://pytorch.org/docs/stable/nn.html)中按分类找到。每一个隐藏层本质上都是将一个数组变换成另一个数组的函数，因此为了确认编写的模型是正确的，可以先用一个小数据进行测试，观察输入和输出的维度。例如，我们先取出前10个观测，此时输入的维度是 `[10, 1, 28, 28]`："
   ]
  },
  {
   "cell_type": "code",
   "execution_count": 27,
   "metadata": {},
   "outputs": [
    {
     "name": "stdout",
     "output_type": "stream",
     "text": [
      "torch.Size([10, 1, 28, 28])\n",
      "torch.Size([10])\n"
     ]
    }
   ],
   "source": [
    "smallx = x[0:10]\n",
    "smally = y[0:10]\n",
    "print(smallx.shape)\n",
    "print(smally.shape)"
   ]
  },
  {
   "cell_type": "markdown",
   "metadata": {},
   "source": [
    "接下来创建第1个卷积层，并测试输出的维度。注意到我们可以直接将隐藏层当成一个函数来调用。"
   ]
  },
  {
   "cell_type": "code",
   "execution_count": 28,
   "metadata": {},
   "outputs": [
    {
     "name": "stdout",
     "output_type": "stream",
     "text": [
      "torch.Size([10, 20, 24, 24])\n"
     ]
    }
   ],
   "source": [
    "conv1 = torch.nn.Conv2d(in_channels=1, out_channels=20, kernel_size=5, stride=1)\n",
    "res = conv1(smallx)\n",
    "print(res.shape)"
   ]
  },
  {
   "cell_type": "markdown",
   "metadata": {},
   "source": [
    "可以看到，输出的维度为 `[20, 24, 24]`（不包括第1位的数据批次维度），与之前图中的结果吻合。"
   ]
  },
  {
   "cell_type": "markdown",
   "metadata": {},
   "source": [
    "接下来，请按照图中提示编写层对象 `pool1`、`conv2`、`pool2`、`fc1` 和 `fc2`，并顺次测试输入与输出的维度，使其与上图匹配。注意，在将一个大小为 `[10, 50, 4, 4]` 的数组（假设叫 `somearray`）传递给 `fc1` 之前，需要先将其变形为只有两个维度的数组，做法是 `somearray.view(-1, 50*4*4)`，其中 -1 表示该位置的大小不变。"
   ]
  },
  {
   "cell_type": "code",
   "execution_count": 29,
   "metadata": {},
   "outputs": [
    {
     "name": "stdout",
     "output_type": "stream",
     "text": [
      "torch.Size([10, 20, 12, 12])\n",
      "torch.Size([10, 50, 8, 8])\n",
      "torch.Size([10, 50, 4, 4])\n",
      "torch.Size([10, 500])\n",
      "torch.Size([10, 10])\n"
     ]
    }
   ],
   "source": [
    "pool1 = torch.nn.MaxPool2d(2,stride=2)\n",
    "res = pool1(res)\n",
    "print(res.shape)\n",
    "\n",
    "conv2 = torch.nn.Conv2d(in_channels=20, out_channels=50, kernel_size=5, stride=1)\n",
    "res = conv2(res)\n",
    "print(res.shape)\n",
    "\n",
    "pool2 = torch.nn.MaxPool2d(2,stride=2)\n",
    "res = pool2(res)\n",
    "print(res.shape)\n",
    "\n",
    "fc1 = torch.nn.Linear(in_features=800, out_features=500)\n",
    "res = fc1(res.view(-1, 50 * 4 * 4))\n",
    "print(res.shape)\n",
    "\n",
    "fc2 = torch.nn.Linear(in_features=500, out_features=10)\n",
    "res = fc2(res)\n",
    "print(res.shape)\n"
   ]
  },
  {
   "cell_type": "markdown",
   "metadata": {},
   "source": [
    "5. 创建模型类。在确保隐藏层维度都正确后，将所有的隐藏层封装到一个模型类中，其中模型结构在 `__init__()` 中定义，具体的计算过程在 `forward()` 中实现。此时需要加入激活函数。在本模型中，**请在 `conv1`、`conv2` 和 `fc1` 后加入 ReLU 激活函数，并在 `fc2` 后加入 Softmax 激活函数**。"
   ]
  },
  {
   "cell_type": "code",
   "execution_count": 34,
   "metadata": {},
   "outputs": [],
   "source": [
    "class MyModel(torch.nn.Module):\n",
    "    def __init__(self):\n",
    "        super().__init__()\n",
    "        self.conv1 = torch.nn.Conv2d(in_channels=1, out_channels=20, kernel_size=5, stride=1)\n",
    "        self.pool1 = torch.nn.MaxPool2d(2,stride=2)\n",
    "        self.conv2 = torch.nn.Conv2d(in_channels=20, out_channels=50, kernel_size=5, stride=1)\n",
    "        self.pool2 = torch.nn.MaxPool2d(2,stride=2)\n",
    "        self.fc1 = torch.nn.Linear(in_features=800, out_features=500)\n",
    "        self.fc2 = torch.nn.Linear(in_features=500, out_features=10)\n",
    "\n",
    "    def forward(self, x):\n",
    "        x = self.conv1(x)\n",
    "        x = torch.relu(x)\n",
    "        x = self.pool1(x)\n",
    "        x = self.conv2(x)\n",
    "        x = torch.relu(x)\n",
    "        x = self.pool2(x)\n",
    "        x = self.fc1(x.view(-1, 50 * 4 * 4))\n",
    "        x = torch.relu(x)\n",
    "        x = self.fc2(x)\n",
    "        x = torch.softmax(x,dim=1) \n",
    "        return x\n",
    "#卷积层和全连接层要进行维度转换，加一个.view"
   ]
  },
  {
   "cell_type": "markdown",
   "metadata": {},
   "source": [
    "再次测试输入输出的维度是否正确。如果模型编写正确，输出的维度应该是 `[10, 10]`，且输出结果为0到1之间的概率值。"
   ]
  },
  {
   "cell_type": "code",
   "execution_count": 35,
   "metadata": {},
   "outputs": [
    {
     "name": "stdout",
     "output_type": "stream",
     "text": [
      "torch.Size([10, 10])\n",
      "tensor([[0.0960, 0.1006, 0.0994, 0.1082, 0.0934, 0.0916, 0.0994, 0.1050, 0.1037,\n",
      "         0.1026],\n",
      "        [0.0985, 0.0991, 0.0986, 0.1082, 0.0926, 0.0908, 0.0979, 0.1071, 0.1045,\n",
      "         0.1027],\n",
      "        [0.0946, 0.1010, 0.1003, 0.1087, 0.0935, 0.0910, 0.1003, 0.1040, 0.1022,\n",
      "         0.1044],\n",
      "        [0.0984, 0.0989, 0.0984, 0.1084, 0.0936, 0.0923, 0.0991, 0.1053, 0.1029,\n",
      "         0.1027],\n",
      "        [0.0970, 0.0994, 0.0976, 0.1068, 0.0929, 0.0925, 0.0994, 0.1060, 0.1016,\n",
      "         0.1067],\n",
      "        [0.0975, 0.1000, 0.1006, 0.1099, 0.0915, 0.0911, 0.0969, 0.1071, 0.1001,\n",
      "         0.1051],\n",
      "        [0.0975, 0.1001, 0.0992, 0.1085, 0.0918, 0.0909, 0.1016, 0.1022, 0.1036,\n",
      "         0.1047],\n",
      "        [0.0980, 0.0991, 0.0987, 0.1089, 0.0933, 0.0908, 0.0987, 0.1055, 0.1032,\n",
      "         0.1039],\n",
      "        [0.0995, 0.1014, 0.0971, 0.1069, 0.0933, 0.0925, 0.0965, 0.1068, 0.1000,\n",
      "         0.1061],\n",
      "        [0.0963, 0.1006, 0.1009, 0.1064, 0.0937, 0.0917, 0.1008, 0.1040, 0.1038,\n",
      "         0.1019]], grad_fn=<SoftmaxBackward>)\n"
     ]
    }
   ],
   "source": [
    "np.random.seed(123)\n",
    "torch.manual_seed(123)\n",
    "\n",
    "model = MyModel()\n",
    "pred = model(smallx)\n",
    "print(pred.shape)\n",
    "print(pred)"
   ]
  },
  {
   "cell_type": "markdown",
   "metadata": {},
   "source": [
    "`pred` 的每一行加总为1，其中每一个元素代表对应类别的预测概率。"
   ]
  },
  {
   "cell_type": "markdown",
   "metadata": {},
   "source": [
    "我们还可以直接打印模型对象，观察隐藏层的结构："
   ]
  },
  {
   "cell_type": "code",
   "execution_count": 36,
   "metadata": {},
   "outputs": [
    {
     "name": "stdout",
     "output_type": "stream",
     "text": [
      "MyModel(\n",
      "  (conv1): Conv2d(1, 20, kernel_size=(5, 5), stride=(1, 1))\n",
      "  (pool1): MaxPool2d(kernel_size=2, stride=2, padding=0, dilation=1, ceil_mode=False)\n",
      "  (conv2): Conv2d(20, 50, kernel_size=(5, 5), stride=(1, 1))\n",
      "  (pool2): MaxPool2d(kernel_size=2, stride=2, padding=0, dilation=1, ceil_mode=False)\n",
      "  (fc1): Linear(in_features=800, out_features=500, bias=True)\n",
      "  (fc2): Linear(in_features=500, out_features=10, bias=True)\n",
      ")\n"
     ]
    }
   ],
   "source": [
    "print(model)"
   ]
  },
  {
   "cell_type": "markdown",
   "metadata": {},
   "source": [
    "6. 损失函数。对于分类问题，损失函数通常选取为负对数似然函数。在 PyTorch 中，可以使用 `torch.nn.NLLLoss` 来完成计算。其用法是先定义一个损失函数对象，然后在预测值和真实标签上调用该函数对象。注意：损失函数对象的第一个参数是预测概率的**对数值**，第二个参数是真实的标签。[文档说明](https://pytorch.org/docs/stable/generated/torch.nn.NLLLoss.html)。"
   ]
  },
  {
   "cell_type": "code",
   "execution_count": 37,
   "metadata": {},
   "outputs": [
    {
     "data": {
      "text/plain": [
       "tensor(2.2980, grad_fn=<NllLossBackward>)"
      ]
     },
     "execution_count": 37,
     "metadata": {},
     "output_type": "execute_result"
    }
   ],
   "source": [
    "lossfn = torch.nn.NLLLoss()\n",
    "lossfn(torch.log(pred), smally)"
   ]
  },
  {
   "cell_type": "markdown",
   "metadata": {},
   "source": [
    "7. 利用课上介绍的循环模板和代码示例，对模型进行迭代训练。对于本数据，选取 mini-batch 大小为200，共遍历数据10遍，优化器选为 Adam，学习率为0.001。"
   ]
  },
  {
   "cell_type": "code",
   "execution_count": 39,
   "metadata": {},
   "outputs": [
    {
     "name": "stdout",
     "output_type": "stream",
     "text": [
      "epoch 0, batch 0, loss = 2.3029985427856445\n",
      "epoch 0, batch 10, loss = 2.0733542442321777\n",
      "epoch 0, batch 20, loss = 1.9591480493545532\n",
      "epoch 0, batch 30, loss = 1.8635021448135376\n",
      "epoch 0, batch 40, loss = 1.7252360582351685\n",
      "epoch 1, batch 0, loss = 1.7144255638122559\n",
      "epoch 1, batch 10, loss = 1.7630369663238525\n",
      "epoch 1, batch 20, loss = 1.6918792724609375\n",
      "epoch 1, batch 30, loss = 1.708096981048584\n",
      "epoch 1, batch 40, loss = 1.6875598430633545\n",
      "epoch 2, batch 0, loss = 1.6683878898620605\n",
      "epoch 2, batch 10, loss = 1.719526767730713\n",
      "epoch 2, batch 20, loss = 1.7223947048187256\n",
      "epoch 2, batch 30, loss = 1.6657413244247437\n",
      "epoch 2, batch 40, loss = 1.67409086227417\n",
      "epoch 3, batch 0, loss = 1.6455341577529907\n",
      "epoch 3, batch 10, loss = 1.653924584388733\n",
      "epoch 3, batch 20, loss = 1.5740002393722534\n",
      "epoch 3, batch 30, loss = 1.5955252647399902\n",
      "epoch 3, batch 40, loss = 1.6053178310394287\n",
      "epoch 4, batch 0, loss = 1.5783380270004272\n",
      "epoch 4, batch 10, loss = 1.5549453496932983\n",
      "epoch 4, batch 20, loss = 1.5785831212997437\n",
      "epoch 4, batch 30, loss = 1.5640677213668823\n",
      "epoch 4, batch 40, loss = 1.5882350206375122\n",
      "epoch 5, batch 0, loss = 1.573543667793274\n",
      "epoch 5, batch 10, loss = 1.5854934453964233\n",
      "epoch 5, batch 20, loss = 1.6105804443359375\n",
      "epoch 5, batch 30, loss = 1.6240061521530151\n",
      "epoch 5, batch 40, loss = 1.5915579795837402\n",
      "epoch 6, batch 0, loss = 1.543912649154663\n",
      "epoch 6, batch 10, loss = 1.5465048551559448\n",
      "epoch 6, batch 20, loss = 1.5706311464309692\n",
      "epoch 6, batch 30, loss = 1.5240886211395264\n",
      "epoch 6, batch 40, loss = 1.5911476612091064\n",
      "epoch 7, batch 0, loss = 1.5237221717834473\n",
      "epoch 7, batch 10, loss = 1.562102198600769\n",
      "epoch 7, batch 20, loss = 1.5828721523284912\n",
      "epoch 7, batch 30, loss = 1.5981261730194092\n",
      "epoch 7, batch 40, loss = 1.5731219053268433\n",
      "epoch 8, batch 0, loss = 1.5917701721191406\n",
      "epoch 8, batch 10, loss = 1.5723956823349\n",
      "epoch 8, batch 20, loss = 1.6099947690963745\n",
      "epoch 8, batch 30, loss = 1.604826807975769\n",
      "epoch 8, batch 40, loss = 1.5856752395629883\n",
      "epoch 9, batch 0, loss = 1.6006476879119873\n",
      "epoch 9, batch 10, loss = 1.5368479490280151\n",
      "epoch 9, batch 20, loss = 1.5243340730667114\n",
      "epoch 9, batch 30, loss = 1.507745385169983\n",
      "epoch 9, batch 40, loss = 1.4729816913604736\n"
     ]
    }
   ],
   "source": [
    "nepoch = 10\n",
    "batch_size = 200\n",
    "\n",
    "opt = torch.optim.Adam(model.parameters(), lr=0.001)\n",
    "\n",
    "n = x.shape[0]\n",
    "obs_id = np.arange(n)  # [0, 1, ..., n-1]\n",
    "# Run the whole data set `nepoch` times\n",
    "for i in range(nepoch):\n",
    "    # Shuffle observation IDs\n",
    "    np.random.shuffle(obs_id)\n",
    "\n",
    "    # Update on mini-batches\n",
    "    for j in range(0, n, batch_size):\n",
    "        # Create mini-batch\n",
    "        x_mini_batch = x[obs_id[j:(j + batch_size)]]\n",
    "        y_mini_batch = y[obs_id[j:(j + batch_size)]]\n",
    "        # Compute loss\n",
    "        pred = model(x_mini_batch)\n",
    "        lossfn = torch.nn.CrossEntropyLoss()\n",
    "        loss = lossfn(pred, y_mini_batch)\n",
    "        # Compute gradient and update parameters\n",
    "        opt.zero_grad()\n",
    "        loss.backward()\n",
    "        opt.step()\n",
    "\n",
    "        if (j // batch_size) % 10 == 0:\n",
    "            print(f\"epoch {i}, batch {j // batch_size}, loss = {loss.item()}\")"
   ]
  },
  {
   "cell_type": "markdown",
   "metadata": {},
   "source": [
    "为了验证模型的效果，我们对前10个观测（即之前生成的 `smallx` 和 `smally`）进行预测。"
   ]
  },
  {
   "cell_type": "code",
   "execution_count": 40,
   "metadata": {},
   "outputs": [
    {
     "name": "stdout",
     "output_type": "stream",
     "text": [
      "[[0. 1. 0. 0. 0. 0. 0. 0. 0. 0.]\n",
      " [0. 0. 1. 0. 0. 0. 0. 0. 0. 0.]\n",
      " [0. 1. 0. 0. 0. 0. 0. 0. 0. 0.]\n",
      " [0. 0. 0. 0. 0. 0. 0. 0. 0. 1.]\n",
      " [1. 0. 0. 0. 0. 0. 0. 0. 0. 0.]\n",
      " [0. 0. 0. 0. 0. 0. 1. 0. 0. 0.]\n",
      " [0. 0. 0. 0. 0. 0. 0. 0. 0. 1.]\n",
      " [0. 0. 0. 0. 0. 0. 0. 0. 1. 0.]\n",
      " [1. 0. 0. 0. 0. 0. 0. 0. 0. 0.]\n",
      " [0. 1. 0. 0. 0. 0. 0. 0. 0. 0.]]\n",
      "tensor([1, 2, 1, 9, 0, 6, 9, 8, 0, 1])\n"
     ]
    }
   ],
   "source": [
    "ypred = model(smallx)\n",
    "print(np.round(ypred.detach().cpu().numpy(), 3))\n",
    "print(smally)"
   ]
  },
  {
   "cell_type": "markdown",
   "metadata": {},
   "source": [
    "如果模型搭建和训练都正常，那么每一行中概率最大的取值所在的位置应该正好对应真实的标签。"
   ]
  },
  {
   "cell_type": "markdown",
   "metadata": {},
   "source": [
    "最后，我们用模型对一些真实的手写数字图片进行预测。请你利用绘图软件（如 Windows 自带的绘图，或 Photoshop 等）准备10张正方形黑色底色的图片，每张用鼠标绘制一个数字（请使用较粗的笔划），从0到9，然后以0.png，1.png等文件名存储下来，放到当前目录一个名为 digits 的文件夹中。以下是几个例子：\n",
    "![](digits/sample0.png) ![](digits/sample5.png) ![](digits/sample8.png)"
   ]
  },
  {
   "cell_type": "markdown",
   "metadata": {},
   "source": [
    "接下来利用 Pillow 软件包读取图片："
   ]
  },
  {
   "cell_type": "code",
   "execution_count": 43,
   "metadata": {
    "scrolled": true
   },
   "outputs": [
    {
     "data": {
      "image/png": "[encoded data removed]",
      "text/plain": [
       "<PIL.PngImagePlugin.PngImageFile image mode=RGB size=261x261 at 0x1F9450A6A90>"
      ]
     },
     "execution_count": 43,
     "metadata": {},
     "output_type": "execute_result"
    }
   ],
   "source": [
    "from PIL import Image\n",
    "im = Image.open(\"digits/sample0.png\")\n",
    "im"
   ]
  },
  {
   "cell_type": "markdown",
   "metadata": {},
   "source": [
    "此时如果直接将其转为 Numpy 数组会得到三个通道："
   ]
  },
  {
   "cell_type": "code",
   "execution_count": 44,
   "metadata": {},
   "outputs": [
    {
     "name": "stdout",
     "output_type": "stream",
     "text": [
      "(261, 261, 3)\n"
     ]
    }
   ],
   "source": [
    "im_arr = np.array(im)\n",
    "print(im_arr.shape)"
   ]
  },
  {
   "cell_type": "markdown",
   "metadata": {},
   "source": [
    "因此，我们先强制转换为灰度图片（单通道），再缩放至模型的图片大小 28 x 28："
   ]
  },
  {
   "cell_type": "code",
   "execution_count": 45,
   "metadata": {},
   "outputs": [
    {
     "name": "stdout",
     "output_type": "stream",
     "text": [
      "(28, 28)\n"
     ]
    },
    {
     "data": {
      "image/png": "[encoded data removed]",
      "text/plain": [
       "<PIL.Image.Image image mode=L size=28x28 at 0x1F944E807F0>"
      ]
     },
     "execution_count": 45,
     "metadata": {},
     "output_type": "execute_result"
    }
   ],
   "source": [
    "im = im.convert(\"L\")\n",
    "im.thumbnail((28, 28))\n",
    "im_arr = np.array(im)\n",
    "print(im_arr.shape)\n",
    "im"
   ]
  },
  {
   "cell_type": "markdown",
   "metadata": {},
   "source": [
    "为了传递给模型对象，还需要先将数值归一化到 [0,1] 区间，转换为 PyTorch 的 Tensor 类型，并增加一个批次和一个通道的维度："
   ]
  },
  {
   "cell_type": "code",
   "execution_count": 46,
   "metadata": {},
   "outputs": [
    {
     "name": "stdout",
     "output_type": "stream",
     "text": [
      "torch.Size([1, 1, 28, 28])\n"
     ]
    }
   ],
   "source": [
    "test0 = torch.tensor(im_arr / 255.0, dtype=torch.float32).view(1, 1, 28, 28)\n",
    "print(test0.shape)"
   ]
  },
  {
   "cell_type": "markdown",
   "metadata": {},
   "source": [
    "最后对图片标签进行预测："
   ]
  },
  {
   "cell_type": "code",
   "execution_count": 47,
   "metadata": {},
   "outputs": [
    {
     "name": "stdout",
     "output_type": "stream",
     "text": [
      "[[0.727 0.    0.266 0.    0.    0.    0.005 0.    0.001 0.001]]\n"
     ]
    }
   ],
   "source": [
    "pred0 = model(test0)\n",
    "print(np.round(pred0.detach().cpu().numpy(), 3))"
   ]
  },
  {
   "cell_type": "markdown",
   "metadata": {},
   "source": [
    "预测结果是否符合真实情形？请对你自己绘制出的10张图片进行类似的预测操作，并评价其效果。"
   ]
  },
  {
   "cell_type": "code",
   "execution_count": 52,
   "metadata": {},
   "outputs": [
    {
     "name": "stdout",
     "output_type": "stream",
     "text": [
      "<PIL.PngImagePlugin.PngImageFile image mode=RGB size=648x648 at 0x1F945084E50>\n",
      "[[0.    0.    0.    0.033 0.    0.    0.    0.008 0.001 0.958]]\n",
      "[[0.033 0.303 0.001 0.    0.482 0.106 0.035 0.003 0.004 0.034]]\n",
      "[[0.    0.009 0.003 0.221 0.739 0.    0.    0.    0.    0.029]]\n",
      "[[0.    0.    0.033 0.853 0.    0.    0.    0.013 0.004 0.097]]\n",
      "[[0.    0.    0.    0.    0.768 0.    0.    0.    0.001 0.231]]\n",
      "[[0.    0.    0.001 0.018 0.    0.755 0.    0.217 0.    0.009]]\n",
      "[[0.    0.    0.    0.    0.    0.889 0.016 0.    0.065 0.029]]\n",
      "[[0.    0.    0.538 0.001 0.    0.    0.    0.461 0.    0.   ]]\n",
      "[[0.001 0.001 0.    0.    0.    0.    0.001 0.    0.997 0.   ]]\n",
      "[[0.    0.001 0.    0.    0.003 0.    0.    0.766 0.    0.229]]\n"
     ]
    }
   ],
   "source": [
    "im = Image.open(\"digits/0.png\")\n",
    "im\n",
    "im_arr = np.array(im)\n",
    "#print(im_arr.shape)\n",
    "im = im.convert(\"L\")\n",
    "im.thumbnail((28, 28))\n",
    "im_arr = np.array(im)\n",
    "#print(im_arr.shape)\n",
    "test0 = torch.tensor(im_arr / 255.0, dtype=torch.float32).view(1, 1, 28, 28)\n",
    "#print(test0.shape)\n",
    "pred0 = model(test0)\n",
    "print(np.round(pred0.detach().cpu().numpy(), 3))\n",
    "\n",
    "\n",
    "im = Image.open(\"digits/1.png\")\n",
    "im\n",
    "im_arr = np.array(im)\n",
    "#print(im_arr.shape)\n",
    "im = im.convert(\"L\")\n",
    "im.thumbnail((28, 28))\n",
    "im_arr = np.array(im)\n",
    "#print(im_arr.shape)\n",
    "test0 = torch.tensor(im_arr / 255.0, dtype=torch.float32).view(1, 1, 28, 28)\n",
    "#print(test0.shape)\n",
    "pred0 = model(test0)\n",
    "print(np.round(pred0.detach().cpu().numpy(), 3))\n",
    "\n",
    "im = Image.open(\"digits/2.png\")\n",
    "im\n",
    "im_arr = np.array(im)\n",
    "#print(im_arr.shape)\n",
    "im = im.convert(\"L\")\n",
    "im.thumbnail((28, 28))\n",
    "im_arr = np.array(im)\n",
    "#print(im_arr.shape)\n",
    "test0 = torch.tensor(im_arr / 255.0, dtype=torch.float32).view(1, 1, 28, 28)\n",
    "#print(test0.shape)\n",
    "pred0 = model(test0)\n",
    "print(np.round(pred0.detach().cpu().numpy(), 3))\n",
    "\n",
    "im = Image.open(\"digits/3.png\")\n",
    "im\n",
    "im_arr = np.array(im)\n",
    "#print(im_arr.shape)\n",
    "im = im.convert(\"L\")\n",
    "im.thumbnail((28, 28))\n",
    "im_arr = np.array(im)\n",
    "#print(im_arr.shape)\n",
    "test0 = torch.tensor(im_arr / 255.0, dtype=torch.float32).view(1, 1, 28, 28)\n",
    "#print(test0.shape)\n",
    "pred0 = model(test0)\n",
    "print(np.round(pred0.detach().cpu().numpy(), 3))\n",
    "\n",
    "im = Image.open(\"digits/4.png\")\n",
    "im\n",
    "im_arr = np.array(im)\n",
    "#print(im_arr.shape)\n",
    "im = im.convert(\"L\")\n",
    "im.thumbnail((28, 28))\n",
    "im_arr = np.array(im)\n",
    "#print(im_arr.shape)\n",
    "test0 = torch.tensor(im_arr / 255.0, dtype=torch.float32).view(1, 1, 28, 28)\n",
    "#print(test0.shape)\n",
    "pred0 = model(test0)\n",
    "print(np.round(pred0.detach().cpu().numpy(), 3))\n",
    "\n",
    "im = Image.open(\"digits/5.png\")\n",
    "im\n",
    "im_arr = np.array(im)\n",
    "#print(im_arr.shape)\n",
    "im = im.convert(\"L\")\n",
    "im.thumbnail((28, 28))\n",
    "im_arr = np.array(im)\n",
    "#print(im_arr.shape)\n",
    "test0 = torch.tensor(im_arr / 255.0, dtype=torch.float32).view(1, 1, 28, 28)\n",
    "#print(test0.shape)\n",
    "pred0 = model(test0)\n",
    "print(np.round(pred0.detach().cpu().numpy(), 3))\n",
    "\n",
    "im = Image.open(\"digits/6.png\")\n",
    "im\n",
    "im_arr = np.array(im)\n",
    "#print(im_arr.shape)\n",
    "im = im.convert(\"L\")\n",
    "im.thumbnail((28, 28))\n",
    "im_arr = np.array(im)\n",
    "#print(im_arr.shape)\n",
    "test0 = torch.tensor(im_arr / 255.0, dtype=torch.float32).view(1, 1, 28, 28)\n",
    "#print(test0.shape)\n",
    "pred0 = model(test0)\n",
    "print(np.round(pred0.detach().cpu().numpy(), 3))\n",
    "\n",
    "im = Image.open(\"digits/7.png\")\n",
    "im\n",
    "im_arr = np.array(im)\n",
    "#print(im_arr.shape)\n",
    "im = im.convert(\"L\")\n",
    "im.thumbnail((28, 28))\n",
    "im_arr = np.array(im)\n",
    "#print(im_arr.shape)\n",
    "test0 = torch.tensor(im_arr / 255.0, dtype=torch.float32).view(1, 1, 28, 28)\n",
    "#print(test0.shape)\n",
    "pred0 = model(test0)\n",
    "print(np.round(pred0.detach().cpu().numpy(), 3))\n",
    "\n",
    "im = Image.open(\"digits/8.png\")\n",
    "im\n",
    "im_arr = np.array(im)\n",
    "#print(im_arr.shape)\n",
    "im = im.convert(\"L\")\n",
    "im.thumbnail((28, 28))\n",
    "im_arr = np.array(im)\n",
    "#print(im_arr.shape)\n",
    "test0 = torch.tensor(im_arr / 255.0, dtype=torch.float32).view(1, 1, 28, 28)\n",
    "#print(test0.shape)\n",
    "pred0 = model(test0)\n",
    "print(np.round(pred0.detach().cpu().numpy(), 3))\n",
    "\n",
    "im = Image.open(\"digits/9.png\")\n",
    "im\n",
    "im_arr = np.array(im)\n",
    "#print(im_arr.shape)\n",
    "im = im.convert(\"L\")\n",
    "im.thumbnail((28, 28))\n",
    "im_arr = np.array(im)\n",
    "#print(im_arr.shape)\n",
    "test0 = torch.tensor(im_arr / 255.0, dtype=torch.float32).view(1, 1, 28, 28)\n",
    "#print(test0.shape)\n",
    "pred0 = model(test0)\n",
    "print(np.round(pred0.detach().cpu().numpy(), 3))"
   ]
  },
  {
   "cell_type": "code",
   "execution_count": null,
   "metadata": {},
   "outputs": [],
   "source": [
    "#此次预测效果并不理想，10张图片中只有4个预测准确。"
   ]
  },
  {
   "cell_type": "markdown",
   "metadata": {},
   "source": [
    "### 第2题"
   ]
  },
  {
   "cell_type": "markdown",
   "metadata": {},
   "source": [
    "1. 目标：通过对英文名数据进行训练，构建一个 RNN 模型，实现英文名的自动生成。"
   ]
  },
  {
   "cell_type": "markdown",
   "metadata": {},
   "source": [
    "2. 主要步骤：获取和整理数据，对字符串进行 one-hot 编码，创建模型结构，定义损失函数，编写训练循环，最后生成人名字符串。"
   ]
  },
  {
   "cell_type": "markdown",
   "metadata": {},
   "source": [
    "3. 获取和整理数据。数据文件已存为 `data/names.txt`，先将其读取为字符串列表："
   ]
  },
  {
   "cell_type": "code",
   "execution_count": 3,
   "metadata": {},
   "outputs": [],
   "source": [
    "import numpy as np\n",
    "import torch\n",
    "from torchvision import datasets\n",
    "from torchvision.transforms import ToTensor\n",
    "from torch.utils.data import DataLoader"
   ]
  },
  {
   "cell_type": "code",
   "execution_count": 4,
   "metadata": {},
   "outputs": [
    {
     "name": "stdout",
     "output_type": "stream",
     "text": [
      "3668\n",
      "['Abbas', 'Abbey', 'Abbott', 'Abdi', 'Abel']\n"
     ]
    }
   ],
   "source": [
    "import io\n",
    "lines = io.open(\"data/names.txt\").read().strip().split('\\n')\n",
    "print(len(lines))\n",
    "print(lines[0:5])"
   ]
  },
  {
   "cell_type": "markdown",
   "metadata": {},
   "source": [
    "可以看出，共读取了3668个名字。为了简单起见，我们将所有的大写字母转换为小写。"
   ]
  },
  {
   "cell_type": "code",
   "execution_count": 5,
   "metadata": {},
   "outputs": [
    {
     "name": "stdout",
     "output_type": "stream",
     "text": [
      "['abbas', 'abbey', 'abbott', 'abdi', 'abel']\n"
     ]
    }
   ],
   "source": [
    "names = [s.lower() for s in lines]\n",
    "print(names[0:5])"
   ]
  },
  {
   "cell_type": "markdown",
   "metadata": {},
   "source": [
    "接下来我们需要构建一个字符的字典。对于英文名来说很简单，即26个字母。我们可以通过下面的代码直接得到。"
   ]
  },
  {
   "cell_type": "code",
   "execution_count": 6,
   "metadata": {},
   "outputs": [
    {
     "data": {
      "text/plain": [
       "'abcdefghijklmnopqrstuvwxyz'"
      ]
     },
     "execution_count": 6,
     "metadata": {},
     "output_type": "execute_result"
    }
   ],
   "source": [
    "import string\n",
    "dict = string.ascii_lowercase\n",
    "dict"
   ]
  },
  {
   "cell_type": "markdown",
   "metadata": {},
   "source": [
    "4. 下面准备好 one-hot 编码所需的函数。编写函数 `char2index(char)`，将一个字母转换为其所在字典的位置。例如 `char2index(\"a\")` 要返回0，`char2index(\"z\")` 要返回25，等等。提示：使用字符串的 `.find()` 函数。"
   ]
  },
  {
   "cell_type": "code",
   "execution_count": 18,
   "metadata": {},
   "outputs": [
    {
     "name": "stdout",
     "output_type": "stream",
     "text": [
      "1\n"
     ]
    }
   ],
   "source": [
    "def char2index(char):\n",
    "    # Implementation here\n",
    "    i=dict.find(char)\n",
    "    return i\n",
    "\n",
    "print(char2index(\"b\")== 25 )"
   ]
  },
  {
   "cell_type": "markdown",
   "metadata": {},
   "source": [
    "编写 `char2tensor(char)` 函数，将一个字母转换为 one-hot 向量，即该向量中第 i 个元素为1，其余为0，其中 i 表示该字母在字典中的位置。\n",
    "\n",
    "**注意，该向量的长度应为27，因为我们要预留终止符，用 `[0.0, 0.0, ..., 1.0]` 表示**。\n",
    "\n",
    "`char2tensor(\"a\")` 应返回 `torch.tensor([1.0, 0.0, ...])`，`char2tensor(\"z\")` 应返回 `torch.tensor([0.0, ..., 1.0, 0.0])`。"
   ]
  },
  {
   "cell_type": "code",
   "execution_count": 8,
   "metadata": {},
   "outputs": [
    {
     "name": "stdout",
     "output_type": "stream",
     "text": [
      "tensor([1., 0., 0., 0., 0., 0., 0., 0., 0., 0., 0., 0., 0., 0., 0., 0., 0., 0.,\n",
      "        0., 0., 0., 0., 0., 0., 0., 0., 0.])\n",
      "tensor([0., 0., 0., 0., 0., 0., 0., 0., 0., 0., 0., 0., 0., 0., 0., 0., 0., 0.,\n",
      "        0., 0., 0., 0., 0., 0., 0., 1., 0.])\n",
      "True\n"
     ]
    }
   ],
   "source": [
    "def char2tensor(char):\n",
    "    # Implementation here\n",
    "    i=dict.find(char)\n",
    "    arr=[0.0]*27\n",
    "    arr[i]=1.0\n",
    "    return torch.tensor(arr)\n",
    "\n",
    "print(char2tensor(\"a\"))\n",
    "print(char2tensor(\"z\"))\n",
    "print(char2tensor(\"z\").shape[0] == 27)"
   ]
  },
  {
   "cell_type": "markdown",
   "metadata": {},
   "source": [
    "5. 构建模型。我们使用最简单的 RNN 结构，即隐藏单元是输入和上一期隐藏单元的线性变换加上 Tanh 激活函数，输出单元是隐藏单元的线性变换加上 Softmax 激活函数。输出的结果代表下一个字符的概率分布。"
   ]
  },
  {
   "cell_type": "markdown",
   "metadata": {},
   "source": [
    "```py\n",
    "class RNN(torch.nn.Module):\n",
    "    def __init__(self, input_size, hidden_size):\n",
    "        super(RNN, self).__init__()\n",
    "        self.hidden_size = hidden_size\n",
    "        self.i2h = ...\n",
    "        self.h2o = ...\n",
    "\n",
    "    def forward(self, input, hidden):\n",
    "        combined = torch.cat((input, hidden), dim=1)\n",
    "        hidden = torch.tanh(self.i2h(combined))\n",
    "        output = torch.nn.functional.softmax(self.h2o(hidden), dim=1)\n",
    "        return output, hidden\n",
    "\n",
    "    def init_hidden(self):\n",
    "        return torch.zeros(1, self.hidden_size)\n",
    "```"
   ]
  },
  {
   "cell_type": "code",
   "execution_count": 9,
   "metadata": {},
   "outputs": [],
   "source": [
    "class RNN(torch.nn.Module):\n",
    "    def __init__(self, input_size, hidden_size):\n",
    "        super(RNN, self).__init__()\n",
    "        self.hidden_size = hidden_size\n",
    "        self.i2h =torch.nn.Linear(input_size + hidden_size, hidden_size)\n",
    "        self.h2o =torch.nn.Linear(hidden_size,input_size)\n",
    "        \n",
    "    def forward(self, input, hidden):\n",
    "        combined = torch.cat((input, hidden), 1)\n",
    "        hidden = torch.tanh(self.i2h(combined))\n",
    "        output = torch.nn.functional.softmax(self.h2o(hidden), dim=1)\n",
    "        return output, hidden\n",
    "\n",
    "    def init_hidden(self):\n",
    "        return torch.zeros(1, self.hidden_size)"
   ]
  },
  {
   "cell_type": "markdown",
   "metadata": {},
   "source": [
    "我们做一个简单的测试。请在下面的代码中加入适当的语句，使得每次运行的结果不变。根据其输出结果，请问当前模型预测字符a的下一个字符是什么？为什么？"
   ]
  },
  {
   "cell_type": "code",
   "execution_count": 10,
   "metadata": {},
   "outputs": [
    {
     "name": "stdout",
     "output_type": "stream",
     "text": [
      "tensor([[0.0381, 0.0426, 0.0338, 0.0356, 0.0315, 0.0321, 0.0449, 0.0468, 0.0271,\n",
      "         0.0310, 0.0348, 0.0495, 0.0432, 0.0467, 0.0288, 0.0304, 0.0292, 0.0343,\n",
      "         0.0346, 0.0346, 0.0256, 0.0400, 0.0303, 0.0492, 0.0416, 0.0371, 0.0469]],\n",
      "       grad_fn=<SoftmaxBackward>)\n"
     ]
    }
   ],
   "source": [
    "np.random.seed(111)\n",
    "torch.random.manual_seed(111)\n",
    "\n",
    "rnn = RNN(input_size=27, hidden_size=10)\n",
    "input = char2tensor(\"a\")\n",
    "hidden = rnn.init_hidden()\n",
    "output, hidden = rnn(input.view(1, 27), hidden)\n",
    "print(output)\n",
    "\n",
    "#下一个字符是L，因为其概率分布中L的概率最大"
   ]
  },
  {
   "cell_type": "markdown",
   "metadata": {},
   "source": [
    "6. 接下来我们定义好损失函数。与第1题中类似，预测值是一个概率分布，而真实的标签是0到26中的一个整数，代表真实的下一个字符在字典中的位置。假设当前处理的名字为\"abel\"，那么字符a的输出结果对应的标签是什么？请完成下面的代码。"
   ]
  },
  {
   "cell_type": "code",
   "execution_count": 28,
   "metadata": {
    "scrolled": true
   },
   "outputs": [
    {
     "name": "stdout",
     "output_type": "stream",
     "text": [
      "tensor(4.9314, grad_fn=<NllLossBackward>)\n"
     ]
    }
   ],
   "source": [
    "# Change \"target\" to a proper value\n",
    "target = 1\n",
    "\n",
    "lossfn = torch.nn.NLLLoss()\n",
    "loss = lossfn(torch.log(output), torch.tensor([target]))\n",
    "print(loss)"
   ]
  },
  {
   "cell_type": "markdown",
   "metadata": {},
   "source": [
    "7. 明确单个字符的损失函数的计算方法后，请在下面计算出\"abel\"这个观测整体的损失函数值。"
   ]
  },
  {
   "cell_type": "code",
   "execution_count": 30,
   "metadata": {},
   "outputs": [
    {
     "name": "stdout",
     "output_type": "stream",
     "text": [
      "tensor(0.2868, grad_fn=<DivBackward0>)\n"
     ]
    }
   ],
   "source": [
    "name=\"able\"\n",
    "nchar = len(name)\n",
    "loss = 0.0\n",
    "hidden = rnn.init_hidden()\n",
    "for j in range(nchar):\n",
    "    input = char2tensor(name[j])\n",
    "    output, hidden = rnn(input.view(1,27), hidden)\n",
    "    if j == nchar - 1:\n",
    "        target = 26\n",
    "    else:\n",
    "        target = char2index(name[j + 1 ])\n",
    "        loss = lossfn(torch.log(output), torch.tensor([target]))    \n",
    "loss = loss / nchar\n",
    "print(loss)"
   ]
  },
  {
   "cell_type": "markdown",
   "metadata": {},
   "source": [
    "8. 将上述过程在数据上进行反复迭代，训练模型。"
   ]
  },
  {
   "cell_type": "code",
   "execution_count": 31,
   "metadata": {
    "scrolled": true
   },
   "outputs": [
    {
     "name": "stdout",
     "output_type": "stream",
     "text": [
      "epoch 0, obs 0, loss = 3.3991856575012207\n",
      "epoch 0, obs 1000, loss = 2.918344020843506\n",
      "epoch 0, obs 2000, loss = 2.6398532390594482\n",
      "epoch 0, obs 3000, loss = 3.1096529960632324\n",
      "epoch 1, obs 0, loss = 2.776276111602783\n",
      "epoch 1, obs 1000, loss = 2.5617995262145996\n",
      "epoch 1, obs 2000, loss = 2.415987014770508\n",
      "epoch 1, obs 3000, loss = 2.4527029991149902\n",
      "epoch 2, obs 0, loss = 2.5975751876831055\n",
      "epoch 2, obs 1000, loss = 2.585355520248413\n",
      "epoch 2, obs 2000, loss = 2.5821340084075928\n",
      "epoch 2, obs 3000, loss = 2.7673685550689697\n",
      "epoch 3, obs 0, loss = 2.584155559539795\n",
      "epoch 3, obs 1000, loss = 2.1915831565856934\n",
      "epoch 3, obs 2000, loss = 2.4389891624450684\n",
      "epoch 3, obs 3000, loss = 2.0150928497314453\n",
      "epoch 4, obs 0, loss = 2.4576306343078613\n",
      "epoch 4, obs 1000, loss = 2.9122250080108643\n",
      "epoch 4, obs 2000, loss = 2.5470449924468994\n",
      "epoch 4, obs 3000, loss = 2.1251466274261475\n",
      "epoch 5, obs 0, loss = 2.283302068710327\n",
      "epoch 5, obs 1000, loss = 2.564319133758545\n",
      "epoch 5, obs 2000, loss = 2.1136810779571533\n",
      "epoch 5, obs 3000, loss = 2.19895601272583\n",
      "epoch 6, obs 0, loss = 2.385223388671875\n",
      "epoch 6, obs 1000, loss = 2.7023868560791016\n",
      "epoch 6, obs 2000, loss = 2.240619659423828\n",
      "epoch 6, obs 3000, loss = 2.557904005050659\n",
      "epoch 7, obs 0, loss = 1.9776948690414429\n",
      "epoch 7, obs 1000, loss = 1.7167218923568726\n",
      "epoch 7, obs 2000, loss = 1.6471465826034546\n",
      "epoch 7, obs 3000, loss = 1.972745418548584\n",
      "epoch 8, obs 0, loss = 2.3119893074035645\n",
      "epoch 8, obs 1000, loss = 2.0465922355651855\n",
      "epoch 8, obs 2000, loss = 2.7650790214538574\n",
      "epoch 8, obs 3000, loss = 1.8902024030685425\n",
      "epoch 9, obs 0, loss = 2.1596932411193848\n",
      "epoch 9, obs 1000, loss = 2.3838236331939697\n",
      "epoch 9, obs 2000, loss = 2.1008870601654053\n",
      "epoch 9, obs 3000, loss = 3.150839328765869\n"
     ]
    }
   ],
   "source": [
    "np.random.seed(123)\n",
    "torch.random.manual_seed(123)\n",
    "\n",
    "n = len(names)\n",
    "n_hidden = 16\n",
    "n_input = 27\n",
    "nepoch = 10\n",
    "\n",
    "rnn = RNN(n_input, n_hidden)\n",
    "opt = torch.optim.Adam(rnn.parameters(), lr=0.0001)\n",
    "train_ind = np.arange(n)\n",
    "losses = []\n",
    "\n",
    "lossfn = torch.nn.NLLLoss()\n",
    "\n",
    "# Loop over epochs\n",
    "for k in range(nepoch):\n",
    "    # Shuffle the data\n",
    "    np.random.shuffle(train_ind)\n",
    "    # Loop over observations. Each observation is a name\n",
    "    for i in range(n):\n",
    "        name = names[train_ind[i]]\n",
    "        nchar = len(name)\n",
    "        # Loop over the characters in the name\n",
    "        # Each input character has a target, which is the index of the next character in the dictionary\n",
    "        # For the last character in the name, the target is the end-of-sequence symbol, which has index 26\n",
    "        loss = 0.0\n",
    "        hidden = rnn.init_hidden()\n",
    "        for j in range(nchar):\n",
    "            input = char2tensor(name[j])\n",
    "            output, hidden = rnn(input.view(1, n_input), hidden)\n",
    "\n",
    "            if j == nchar - 1:\n",
    "                target = 26\n",
    "            else:\n",
    "                target = char2index(name[j + 1])\n",
    "\n",
    "            loss = loss + lossfn(torch.log(output), torch.tensor([target]))\n",
    "    \n",
    "        loss = loss / nchar\n",
    "\n",
    "        opt.zero_grad()\n",
    "        loss.backward()\n",
    "        opt.step()\n",
    "\n",
    "        losses.append(loss.item())\n",
    "        if i % 1000 == 0:\n",
    "            print(f\"epoch {k}, obs {i}, loss = {loss.item()}\")"
   ]
  },
  {
   "cell_type": "code",
   "execution_count": 32,
   "metadata": {},
   "outputs": [
    {
     "data": {
      "text/plain": [
       "[<matplotlib.lines.Line2D at 0x1cf9fe0baf0>]"
      ]
     },
     "execution_count": 32,
     "metadata": {},
     "output_type": "execute_result"
    },
    {
     "data": {
      "image/png": "[encoded data removed]",
      "text/plain": [
       "<Figure size 432x288 with 1 Axes>"
      ]
     },
     "metadata": {
      "needs_background": "light"
     },
     "output_type": "display_data"
    }
   ],
   "source": [
    "import matplotlib.pyplot as plt\n",
    "plt.plot(losses)"
   ]
  },
  {
   "cell_type": "markdown",
   "metadata": {},
   "source": [
    "9. 编写一个函数 `random_first_letter()`，它随机返回字典中的一个字符，我们将利用它来随机生成第一个字符。"
   ]
  },
  {
   "cell_type": "code",
   "execution_count": 37,
   "metadata": {},
   "outputs": [
    {
     "name": "stdout",
     "output_type": "stream",
     "text": [
      "h\n",
      "h\n",
      "j\n"
     ]
    }
   ],
   "source": [
    "import random  \n",
    "def random_first_letter():\n",
    "    # Implementation here\n",
    "    fir=random.choice(dict)\n",
    "    return fir\n",
    "\n",
    "print(random_first_letter())\n",
    "print(random_first_letter())\n",
    "print(random_first_letter())"
   ]
  },
  {
   "cell_type": "markdown",
   "metadata": {},
   "source": [
    "请简要说明如下的代码的含义（可以在代码中加入注释），然后利用它随机生成10个名字。评价生成的结果，并简要说明可以如何改进模型的效果？"
   ]
  },
  {
   "cell_type": "code",
   "execution_count": 50,
   "metadata": {},
   "outputs": [
    {
     "name": "stdout",
     "output_type": "stream",
     "text": [
      "nerlen\n",
      "yar\n",
      "warlen\n",
      "zarlen\n",
      "parlen\n",
      "varlen\n",
      "marlen\n",
      "jarlen\n",
      "nerlen\n",
      "marlen\n"
     ]
    }
   ],
   "source": [
    "def random_name(max_len=20):\n",
    "    rnn.eval()     #将字符串当成有效的表达式来求值并返回计算结果\n",
    "    first_letter = random_first_letter()   #调用上面的函数利用它来随机生成第一个字符\n",
    "    char_ind = [char2index(first_letter)]   #将第一个字母转换为其所在字典的位置\n",
    "    input = char2tensor(first_letter)\n",
    "    hidden = rnn.init_hidden()\n",
    "    for i in range(max_len - 1):\n",
    "        output, hidden = rnn(input.view(1, n_input), hidden)\n",
    "        ind = torch.argmax(output).item()    #返回output所有元素中最大值的indice\n",
    "        if ind == 26:\n",
    "            break\n",
    "        char_ind.append(ind)\n",
    "        input.zero_()\n",
    "        input[ind] = 1.0\n",
    "    return \"\".join([dict[i] for i in char_ind])\n",
    "\n",
    "for i in range(10):\n",
    "    print(random_name())\n",
    "\n",
    "#从结果可以看出，模型效果并不好，会出现多个重复，或者只有首字母不同，有些字母出现频率过高。\n",
    "#改进：增大模型样本量，增加样本数据的多样性"
   ]
  },
  {
   "cell_type": "markdown",
   "metadata": {},
   "source": [
    "### 第3题"
   ]
  },
  {
   "cell_type": "markdown",
   "metadata": {},
   "source": [
    "利用卷积函数实现任意大整数的乘法。给定两个整数，如 183612 和 23333，用两个列表表达它们的序列："
   ]
  },
  {
   "cell_type": "code",
   "execution_count": 57,
   "metadata": {},
   "outputs": [],
   "source": [
    "n1 = [1, 8, 3, 6, 1, 2]\n",
    "n2 = [2, 3, 3, 3, 3]"
   ]
  },
  {
   "cell_type": "markdown",
   "metadata": {},
   "source": [
    "请编写一个函数 `integer_mult(n1, n2)`，返回 `n1 * n2` 对应的整数序列。注意不要直接调用乘法表达式（设想有两个非常大的整数，直接相乘可能会导致数值溢出）。"
   ]
  },
  {
   "cell_type": "code",
   "execution_count": 71,
   "metadata": {},
   "outputs": [
    {
     "name": "stdout",
     "output_type": "stream",
     "text": [
      "True\n"
     ]
    }
   ],
   "source": [
    "def liststr(li):\n",
    "    while li[0]==0:\n",
    "        del li[0]\n",
    "    return li\n",
    "def integer_mult(n1, n2):\n",
    "    # Implementation here\n",
    "    n3=[]\n",
    "    for i in range(len(n1+n2)):\n",
    "        n3.append(0)\n",
    "    for j in range(len(n1)):\n",
    "        for k in range(len(n2)):\n",
    "            n3[len(n1+n2)-j-k-1]+=(n1[len(n1)-j-1])*(n2[len(n2)-k-1])\n",
    "    for i in range(len(n1+n2)):\n",
    "        if n3[len(n3)-1-i]>=10 :\n",
    "            n3[len(n3)-i-2] += n3[len(n3) - 1 - i] // 10\n",
    "            n3[len(n3)-1-i]=n3[len(n3)-1-i]%10\n",
    "    return liststr(n3)\n",
    "\n",
    "res = integer_mult(n1, n2)\n",
    "print(res == [4, 2, 8, 4, 2, 1, 8, 7, 9, 6])"
   ]
  },
  {
   "cell_type": "code",
   "execution_count": 84,
   "metadata": {},
   "outputs": [
    {
     "name": "stdout",
     "output_type": "stream",
     "text": [
      "19224781614290001586341750\n"
     ]
    }
   ],
   "source": [
    "n1=23742389754298365\n",
    "n2=809723950 \n",
    "def liststr(li):\n",
    "    while li[0]==0:\n",
    "        del li[0]\n",
    "    res=''\n",
    "    for i in li:\n",
    "        res+=str(i)\n",
    "    return res\n",
    "def integer_mult(n1, n2):\n",
    "    # Implementation here\n",
    "    n1=str(n1)\n",
    "    n2=str(n2)\n",
    "    n3=[]\n",
    "    for i in range(len(n1+n2)):\n",
    "        n3.append(0)\n",
    "    for j in range(len(n1)):\n",
    "        for k in range(len(n2)):\n",
    "            n3[len(n1+n2)-j-k-1]+=int(n1[len(n1)-j-1])*int(n2[len(n2)-k-1])\n",
    "    for i in range(len(n1+n2)):\n",
    "        if n3[len(n3)-1-i]>=10 :\n",
    "            n3[len(n3)-i-2] += n3[len(n3) - 1 - i] // 10\n",
    "            n3[len(n3)-1-i]=n3[len(n3)-1-i]%10\n",
    "    return liststr(n3)\n",
    "\n",
    "res = integer_mult(n1, n2)\n",
    "print(res)"
   ]
  },
  {
   "cell_type": "markdown",
   "metadata": {},
   "source": [
    "思路："
   ]
  },
  {
   "cell_type": "markdown",
   "metadata": {},
   "source": [
    "1. 先实现多项式的乘法。例如，给定 $p(x)=1+2x+x^4$ 和 $q(x)=x+3x^2+5x^3$，计算 $r(x)=p(x)q(x)$。我们将 $p(x)$ 编码为 `p = [1, 2, 0, 0, 1]`，$q(x)$ 编码为 `q = [0, 1, 3, 5]`，请编写函数 `poly_mult(p, q)`，使得 `poly_mult(p, q) == [0, 1, 5, 11, 10, 1, 3, 5]`。"
   ]
  },
  {
   "cell_type": "code",
   "execution_count": 82,
   "metadata": {},
   "outputs": [
    {
     "name": "stdout",
     "output_type": "stream",
     "text": [
      "True\n"
     ]
    }
   ],
   "source": [
    "p = [1, 2, 0, 0, 1]\n",
    "q = [0, 1, 3,5]\n",
    "def liststr(li):\n",
    "    if li[0]==0:\n",
    "        del li[0]\n",
    "    return li\n",
    "def poly_mult(p, q):\n",
    "    # Implementation here\n",
    "    r=[]\n",
    "    for i in range(len(p+q)):\n",
    "        r.append(0)\n",
    "    for j in range(len(p)):\n",
    "        for k in range(len(q)):\n",
    "            r[len(p+q)-j-k-1]+=(p[len(p)-j-1])*(q[len(q)-k-1])  \n",
    "    return liststr(r)\n",
    "\n",
    "print(poly_mult(p, q) == [0, 1, 5, 11, 10,  1, 3, 5])"
   ]
  },
  {
   "cell_type": "markdown",
   "metadata": {},
   "source": [
    "2. 对于任意的一个整数，将其看成是某个多项式在 $x=10$ 处的取值，如 $123 = p_1(10)$，$p_1(x)=3+2x+x^2$，$5310 = p_2(10)$，$p_2(x)=x+3x^2+5x^3$，注意需要适当将序列反序。因此，要计算 $123\\times 5310$，相当于计算 $r(10)$ 的值，但为了避免直接进行乘法运算（防止溢出），可以先计算 $r(x)$ 的表达式（等价于其系数向量），然后建立起 $r(x)$ 的系数与 $r(10)$ 之间的联系（见如下第3点）。"
   ]
  },
  {
   "cell_type": "markdown",
   "metadata": {},
   "source": [
    "3. 如果一个多项式 $r(x)$ 所有的系数都是0到9之间的整数，那么 $r(x)$ 和 $r(10)$ 的关系非常直接，比如若 $r(x)=1+2x+5x^2+3x^3$，则 $r(10)=3521$。但如果有系数超过10，就需要考虑进位的影响，比如 $r(x)=1+11x+2x^2$，$r(10)=311$。此时可以从 $r(x)$ 的第一项开始逐项进位，构造一个新的多项式 $r'(x)=1+x+3x^2$，满足 $r'(10)=r(10)$，且 $r'(x)$ 所有的系数都不超过10。 "
   ]
  },
  {
   "cell_type": "markdown",
   "metadata": {},
   "source": [
    "4. 综合利用以上信息，完成本题的算法编写。并测试 23742389754298365 * 809723950 的结果。"
   ]
  }
 ],
 "metadata": {
  "kernelspec": {
   "display_name": "Python 3",
   "language": "python",
   "name": "python3"
  },
  "language_info": {
   "codemirror_mode": {
    "name": "ipython",
    "version": 3
   },
   "file_extension": ".py",
   "mimetype": "text/x-python",
   "name": "python",
   "nbconvert_exporter": "python",
   "pygments_lexer": "ipython3",
   "version": "3.8.5"
  }
 },
 "nbformat": 4,
 "nbformat_minor": 5
}
